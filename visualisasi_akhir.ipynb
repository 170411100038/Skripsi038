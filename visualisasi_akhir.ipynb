{
 "cells": [
  {
   "cell_type": "code",
   "execution_count": 1,
   "metadata": {},
   "outputs": [],
   "source": [
    "import pandas as pd\n",
    "import numpy as np\n",
    "import matplotlib.pyplot as plt"
   ]
  },
  {
   "cell_type": "code",
   "execution_count": 2,
   "metadata": {},
   "outputs": [],
   "source": [
    "def Average(dat):\n",
    "    return sum(dat) / len(dat)"
   ]
  },
  {
   "cell_type": "code",
   "execution_count": 3,
   "metadata": {},
   "outputs": [],
   "source": [
    "#Data Output ID3 Imputasi\n",
    "dat_id3 = pd.read_excel('output_ID3_imputasi.xlsx')\n",
    "akurasi_id3 = dat_id3[\"Akurasi\"]\n",
    "presisi_id3 = dat_id3[\"Presisi\"]\n",
    "recall_id3 = dat_id3[\"Recall\"]\n",
    "ratAkurasi_ID3 = round(Average(akurasi_id3), 2)\n",
    "ratPresisi_ID3 = round(Average(presisi_id3), 2)\n",
    "ratRecall_ID3 = round(Average(recall_id3), 2)\n",
    "\n",
    "#Data Output ID3 Non Imputasi\n",
    "dat_id3_n = pd.read_excel('output_ID3_nonImput_2.xlsx')\n",
    "akurasi_id3_n = dat_id3_n[\"Akurasi\"]\n",
    "presisi_id3_n = dat_id3_n[\"Presisi\"]\n",
    "recall_id3_n = dat_id3_n[\"Recall\"]\n",
    "ratAkurasi_ID3_n = round(Average(akurasi_id3_n), 2)\n",
    "ratPresisi_ID3_n = round(Average(presisi_id3_n), 2)\n",
    "ratRecall_ID3_n = round(Average(recall_id3_n), 2)\n",
    "\n",
    "#Data Output ID3 Bagging\n",
    "ID3_bagAk = pd.read_excel(\"ID3_bagging_imputasi_akurasi.xlsx\")\n",
    "ID3_bagPr = pd.read_excel(\"ID3_bagging_imputasi_recall.xlsx\")\n",
    "ID3_bagRe = pd.read_excel(\"ID3_bagging_imputasi_presisi.xlsx\")\n",
    "ID3_bag_hasil_akhir = pd.read_excel(\"ID3_bagging_imputasi_hasil_akhir.xlsx\")\n",
    "ID3_ratAkurasi_bagging = [ID3_bag_hasil_akhir['k:'+str(i)][0] for i in  range(2,ID3_bag_hasil_akhir.shape[1]+1)]\n",
    "ID3_ratPresisi_bagging = [ID3_bag_hasil_akhir['k:'+str(i)][1] for i in  range(2,ID3_bag_hasil_akhir.shape[1]+1)]\n",
    "ID3_ratRecall_bagging = [ID3_bag_hasil_akhir['k:'+str(i)][2] for i in  range(2,ID3_bag_hasil_akhir.shape[1]+1)]\n",
    "ID3_maxAkurasi_Bagging = max(ID3_ratAkurasi_bagging)\n",
    "ID3_maxPresisi_Bagging = max(ID3_ratPresisi_bagging)\n",
    "ID3_maxRecall_Bagging = max(ID3_ratRecall_bagging)\n",
    "\n",
    "#Data Output ID3 Bagging Non Imputasi\n",
    "ID3_bagAk_n = pd.read_excel(\"ID3_bagging_nonImput_akurasi_2.xlsx\")\n",
    "ID3_bagPr_n = pd.read_excel(\"ID3_bagging_nonImput_recall_2.xlsx\")\n",
    "ID3_bagRe_n = pd.read_excel(\"ID3_bagging_nonImput_presisi_2.xlsx\")\n",
    "ID3_bag_hasil_akhir_n = pd.read_excel(\"ID3_bagging_nonImput_hasil_akhir_2.xlsx\")\n",
    "ID3_ratAkurasi_bagging_n = [ID3_bag_hasil_akhir_n['k:'+str(i)][0] for i in  range(2,ID3_bag_hasil_akhir_n.shape[1]+1)]\n",
    "ID3_ratPresisi_bagging_n = [ID3_bag_hasil_akhir_n['k:'+str(i)][1] for i in  range(2,ID3_bag_hasil_akhir_n.shape[1]+1)]\n",
    "ID3_ratRecall_bagging_n = [ID3_bag_hasil_akhir_n['k:'+str(i)][2] for i in  range(2,ID3_bag_hasil_akhir_n.shape[1]+1)]\n",
    "ID3_maxAkurasi_Bagging_n = max(ID3_ratAkurasi_bagging_n)\n",
    "ID3_maxPresisi_Bagging_n = max(ID3_ratPresisi_bagging_n)\n",
    "ID3_maxRecall_Bagging_n = max(ID3_ratRecall_bagging_n)"
   ]
  },
  {
   "cell_type": "code",
   "execution_count": 4,
   "metadata": {},
   "outputs": [
    {
     "name": "stdout",
     "output_type": "stream",
     "text": [
      "  Keterangan  ID3 Imputasi  ID3 Non Imputasi  ID3 Bagging Imputasi  \\\n",
      "0    Akurasi         74.89             67.72                 76.84   \n",
      "1    Presisi         63.26             58.47                 67.84   \n",
      "2     Recall         67.99             27.68                 64.63   \n",
      "\n",
      "   ID3 Bagging Non Imputasi  \n",
      "0                     68.50  \n",
      "1                     67.00  \n",
      "2                     24.29  \n"
     ]
    }
   ],
   "source": [
    "def tabelPerbandinganMetode():\n",
    "    dat = []\n",
    "\n",
    "    dat.append([\"Akurasi\",ratAkurasi_ID3, ratAkurasi_ID3_n, ID3_maxAkurasi_Bagging, ID3_maxAkurasi_Bagging_n])\n",
    "    dat.append([\"Presisi\",ratPresisi_ID3, ratPresisi_ID3_n, ID3_maxPresisi_Bagging, ID3_maxPresisi_Bagging_n])\n",
    "    dat.append([\"Recall\",ratRecall_ID3, ratRecall_ID3_n, ID3_maxRecall_Bagging, ID3_maxRecall_Bagging_n])\n",
    "    \n",
    "    dat2 = pd.DataFrame(dat, columns=['Keterangan', 'ID3 Imputasi', 'ID3 Non Imputasi', 'ID3 Bagging Imputasi', 'ID3 Bagging Non Imputasi'])\n",
    "\n",
    "    return dat2\n",
    "\n",
    "PerbandinganMetode = tabelPerbandinganMetode()\n",
    "print(PerbandinganMetode)"
   ]
  },
  {
   "cell_type": "code",
   "execution_count": 6,
   "metadata": {},
   "outputs": [
    {
     "data": {
      "image/png": "[encoded data removed]",
      "text/plain": [
       "<Figure size 864x576 with 1 Axes>"
      ]
     },
     "metadata": {
      "needs_background": "light"
     },
     "output_type": "display_data"
    }
   ],
   "source": [
    "def perbandingan_semua_metode():\n",
    "    # set width of bar\n",
    "    barWidth = 0.20\n",
    "    fig = plt.subplots(figsize =(12, 8))\n",
    "\n",
    "    # set height of bar\n",
    "    label = ['ID3 Imputasi', 'ID3 Non Imputasi', 'ID3 Bagging Imputasi', 'ID3 Bagging Non Imputasi']\n",
    "    # Akurasi = [PerbandinganMetode[label[i]][0] for i in range(len(label))]\n",
    "    ID3_Imputasi = PerbandinganMetode['ID3 Imputasi']\n",
    "    ID3_Non_Imputasi = PerbandinganMetode['ID3 Non Imputasi']\n",
    "    ID3_Bagging_Imputasi = PerbandinganMetode['ID3 Bagging Imputasi']\n",
    "    ID3_Bagging_Non_Imputasi = PerbandinganMetode['ID3 Bagging Non Imputasi']\n",
    "\n",
    "    # Set position of bar on X axis\n",
    "    br1 = np.arange(len(ID3_Imputasi))\n",
    "    br2 = [x + barWidth for x in br1]\n",
    "    br3 = [x + barWidth for x in br2]\n",
    "    br4 = [x + barWidth for x in br3]\n",
    "\n",
    "    # Make the plot\n",
    "    plt.bar(br1, ID3_Imputasi, color ='tomato', width = barWidth,edgecolor ='grey', label ='ID3 Imputasi')\n",
    "    plt.bar(br2, ID3_Non_Imputasi, color ='skyblue', width = barWidth,edgecolor ='grey', label ='ID3 Non Imputasi')\n",
    "    plt.bar(br3, ID3_Bagging_Imputasi, color ='teal', width = barWidth,edgecolor ='grey', label ='ID3 Bagging Imputasi')\n",
    "    plt.bar(br4, ID3_Bagging_Non_Imputasi, color ='maroon', width = barWidth,edgecolor ='grey', label ='ID3 Bagging Non Imputasi')\n",
    "\n",
    "    # Adding Xticks\n",
    "    plt.xlabel('Evaluasi Hasil', fontweight ='bold', fontsize = 15)\n",
    "    plt.ylabel('Persentasi', fontweight ='bold', fontsize = 15)\n",
    "    plt.xticks([r + barWidth for r in range(len(ID3_Imputasi))],['Akurasi', 'Presisi', 'Recall'])\n",
    "\n",
    "    plt.legend()\n",
    "    plt.show()\n",
    "    \n",
    "perbandingan_semua_metode()"
   ]
  }
 ],
 "metadata": {
  "kernelspec": {
   "display_name": "Python 3 (ipykernel)",
   "language": "python",
   "name": "python3"
  },
  "orig_nbformat": 4,
  "vscode": {
   "interpreter": {
    "hash": "df2d9aea1c7c73a27ab47061c0e937843646a6ab1d9d5b33d73d8141842e41e4"
   }
  }
 },
 "nbformat": 4,
 "nbformat_minor": 2
}
