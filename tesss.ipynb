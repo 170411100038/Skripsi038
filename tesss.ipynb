{
 "cells": [
  {
   "cell_type": "code",
   "execution_count": 2,
   "metadata": {},
   "outputs": [
    {
     "name": "stdout",
     "output_type": "stream",
     "text": [
      "2\n",
      "{'DiabetesPedigreeFunction': {'Tinggi': 1, 'Rendah': {'SkinThickness': {'Tinggi': {'Glucose': {'Rendah': {'Pregnancies': {'Tinggi': {'BloodPressure': {'Tinggi': 0, 'Normal': {'Insulin': {'Rendah': 1.0, 'Tinggi': 0.0}}, 'Rendah': 0}}, 'Normal': 0, 'Rendah': 0}}, 'Normal': 1}}, 'Rendah': {'BMI': {'Normal': {'Pregnancies': {'Normal': {'Pregnancies': {'Normal': 0.0}}, 'Rendah': 0}}, 'Tinggi': {'Pregnancies': {'Tinggi': {'BloodPressure': {'Tinggi': {'BloodPressure': {'Tinggi': 0.0}}, 'Normal': {'Glucose': {'Rendah': 1.0, 'Normal': 0.0}}}}, 'Normal': 0, 'Rendah': 1}}}}, 'Normal': {'BloodPressure': {'Normal': 0, 'Tinggi': 1}}}}, 'Normal': {'Age': {'Dewasa': 0, 'Tua': {'BloodPressure': {'Normal': {'SkinThickness': {'Normal': 1, 'Rendah': 0}}, 'Rendah': 0, 'Tinggi': 1}}}}}}\n",
      "\n",
      "{'Age': {'Tua': {'Glucose': {'Rendah': {'SkinThickness': {'Normal': {'BloodPressure': {'Normal': {'DiabetesPedigreeFunction': {'Rendah': 0, 'Normal': 1}}, 'Tinggi': 1}}, 'Rendah': {'DiabetesPedigreeFunction': {'Rendah': {'Pregnancies': {'Tinggi': 1, 'Normal': {'BMI': {'Normal': 1.0, 'Tinggi': 0.0}}}}, 'Normal': {'Pregnancies': {'Normal': 0, 'Tinggi': 0, 'Rendah': {'Pregnancies': {'Rendah': 0.0}}}}, 'Tinggi': 1}}, 'Tinggi': {'DiabetesPedigreeFunction': {'Rendah': {'Pregnancies': {'Tinggi': {'BloodPressure': {'Normal': {'Insulin': {'Rendah': 0.0, 'Tinggi': 0.0}}, 'Tinggi': 0}}, 'Normal': 0, 'Rendah': 0}}, 'Normal': 1, 'Tinggi': 0}}}}, 'Normal': 1}}, 'Dewasa': {'SkinThickness': {'Tinggi': 0, 'Rendah': {'BloodPressure': {'Normal': {'Glucose': {'Normal': 0.0, 'Rendah': 1.0}}, 'Rendah': 0}}, 'Normal': 0}}}}\n",
      "\n",
      "{'Age': {'Tua': {'Pregnancies': {'Tinggi': {'Insulin': {'Tinggi': 1, 'Rendah': {'Glucose': {'Rendah': {'SkinThickness': {'Rendah': {'BloodPressure': {'Tinggi': {'BloodPressure': {'Tinggi': 1.0}}, 'Normal': 1, 'Rendah': 0}}, 'Tinggi': {'BloodPressure': {'Normal': 0.0, 'Tinggi': 0.0}}}}, 'Normal': 0}}}}, 'Rendah': {'BloodPressure': {'Normal': {'Glucose': {'Normal': 1, 'Rendah': 0}}, 'Rendah': 1, 'Tinggi': {'SkinThickness': {'Tinggi': 1, 'Rendah': 0}}}}, 'Normal': {'SkinThickness': {'Tinggi': 0, 'Rendah': {'BMI': {'Normal': {'DiabetesPedigreeFunction': {'Normal': 0.0, 'Rendah': 1.0}}, 'Tinggi': 0}}, 'Normal': {'Insulin': {'Tinggi': 0, 'Rendah': 1}}}}}}, 'Dewasa': 0}}\n",
      "\n",
      "{'Age': {'Dewasa': {'SkinThickness': {'Normal': 0, 'Rendah': {'BMI': {'Tinggi': {'Glucose': {'Rendah': 1.0, 'Normal': 0.0}}, 'Normal': 0}}, 'Tinggi': 0}}, 'Tua': {'BloodPressure': {'Tinggi': {'SkinThickness': {'Rendah': 0, 'Normal': 1, 'Tinggi': {'Pregnancies': {'Rendah': 1, 'Tinggi': 0}}}}, 'Normal': {'SkinThickness': {'Rendah': {'DiabetesPedigreeFunction': {'Rendah': {'Insulin': {'Rendah': {'Glucose': {'Rendah': {'Pregnancies': {'Normal': {'BMI': {'Normal': 1.0, 'Tinggi': 0.0}}, 'Tinggi': 1}}, 'Normal': 0}}, 'Tinggi': 1}}, 'Normal': 0, 'Tinggi': 1}}, 'Tinggi': {'Glucose': {'Normal': 1, 'Rendah': 0}}, 'Normal': {'DiabetesPedigreeFunction': {'Rendah': 0, 'Normal': 1}}}}, 'Rendah': {'DiabetesPedigreeFunction': {'Rendah': 1, 'Tinggi': 1, 'Normal': 0}}}}}}\n",
      "\n",
      "{'Age': {'Tua': {'Glucose': {'Rendah': {'BloodPressure': {'Normal': {'BMI': {'Tinggi': {'Insulin': {'Rendah': {'Pregnancies': {'Normal': {'SkinThickness': {'Normal': {'DiabetesPedigreeFunction': {'Rendah': 0.0, 'Normal': 1.0}}, 'Rendah': 0}}, 'Tinggi': {'SkinThickness': {'Rendah': 1.0, 'Tinggi': 0.0}}, 'Rendah': 0}}, 'Tinggi': 0, 'Normal': 0}}, 'Normal': 0}}, 'Tinggi': {'Insulin': {'Rendah': {'SkinThickness': {'Rendah': {'Pregnancies': {'Tinggi': 1, 'Rendah': {'Pregnancies': {'Rendah': 0.0}}}}, 'Tinggi': 0, 'Normal': 1}}, 'Tinggi': 1}}, 'Rendah': {'DiabetesPedigreeFunction': {'Normal': 0.0, 'Tinggi': 1.0}}}}, 'Normal': {'Pregnancies': {'Tinggi': {'DiabetesPedigreeFunction': {'Tinggi': 1, 'Normal': 1, 'Rendah': 0}}, 'Normal': 1, 'Rendah': 1}}}}, 'Dewasa': 0}}\n",
      "\n"
     ]
    }
   ],
   "source": [
    "import json\n",
    "\n",
    "# Opening JSON file\n",
    "f = open('AllTreeNonImputasi.json')\n",
    "\n",
    "# returns JSON object as \n",
    "# a dictionary\n",
    "data = json.load(f)\n",
    "print(len(data[0]))\n",
    "\n",
    "# Iterating through the json\n",
    "# list\n",
    "for i in range(len(data[0])):\n",
    "    for j in range(len(data[0][i])):\n",
    "        print(data[0][i][j])\n",
    "        print(\"\")"
   ]
  }
 ],
 "metadata": {
  "kernelspec": {
   "display_name": "Python 3.10.0 64-bit",
   "language": "python",
   "name": "python3"
  },
  "language_info": {
   "codemirror_mode": {
    "name": "ipython",
    "version": 3
   },
   "file_extension": ".py",
   "mimetype": "text/x-python",
   "name": "python",
   "nbconvert_exporter": "python",
   "pygments_lexer": "ipython3",
   "version": "3.10.0"
  },
  "orig_nbformat": 4,
  "vscode": {
   "interpreter": {
    "hash": "369f2c481f4da34e4445cda3fffd2e751bd1c4d706f27375911949ba6bb62e1c"
   }
  }
 },
 "nbformat": 4,
 "nbformat_minor": 2
}
